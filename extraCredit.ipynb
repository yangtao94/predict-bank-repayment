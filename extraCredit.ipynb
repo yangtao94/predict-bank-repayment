{
 "cells": [
  {
   "cell_type": "code",
   "execution_count": 947,
   "metadata": {},
   "outputs": [
    {
     "data": {
      "text/html": [
       "<div>\n",
       "<style>\n",
       "    .dataframe thead tr:only-child th {\n",
       "        text-align: right;\n",
       "    }\n",
       "\n",
       "    .dataframe thead th {\n",
       "        text-align: left;\n",
       "    }\n",
       "\n",
       "    .dataframe tbody tr th {\n",
       "        vertical-align: top;\n",
       "    }\n",
       "</style>\n",
       "<table border=\"1\" class=\"dataframe\">\n",
       "  <thead>\n",
       "    <tr style=\"text-align: right;\">\n",
       "      <th></th>\n",
       "      <th>Loan ID</th>\n",
       "      <th>Amount Requested</th>\n",
       "      <th>Amount Funded By Investors</th>\n",
       "      <th>Interest Rate</th>\n",
       "      <th>Loan Length</th>\n",
       "      <th>CREDIT Grade</th>\n",
       "      <th>Loan Title</th>\n",
       "      <th>Loan Purpose</th>\n",
       "      <th>Monthly PAYMENT</th>\n",
       "      <th>Total Amount Funded</th>\n",
       "      <th>...</th>\n",
       "      <th>Inquiries in the Last 6 Months</th>\n",
       "      <th>Accounts Now Delinquent</th>\n",
       "      <th>Delinquent Amount</th>\n",
       "      <th>Delinquencies (Last 2 yrs)</th>\n",
       "      <th>Months Since Last Delinquency</th>\n",
       "      <th>Public Records On File</th>\n",
       "      <th>Months Since Last Record</th>\n",
       "      <th>Education</th>\n",
       "      <th>Employment Length</th>\n",
       "      <th>Status (Fully Paid=1, Not Paid=0)</th>\n",
       "    </tr>\n",
       "  </thead>\n",
       "  <tbody>\n",
       "    <tr>\n",
       "      <th>0</th>\n",
       "      <td>2227104</td>\n",
       "      <td>12000</td>\n",
       "      <td>12000.00</td>\n",
       "      <td>13.11%</td>\n",
       "      <td>36 months</td>\n",
       "      <td>B4</td>\n",
       "      <td>Credit card refinancing</td>\n",
       "      <td>credit_card</td>\n",
       "      <td>404.97</td>\n",
       "      <td>12000</td>\n",
       "      <td>...</td>\n",
       "      <td>0.0</td>\n",
       "      <td>0.0</td>\n",
       "      <td>0.0</td>\n",
       "      <td>0.0</td>\n",
       "      <td>34.0</td>\n",
       "      <td>0.0</td>\n",
       "      <td>NaN</td>\n",
       "      <td>NaN</td>\n",
       "      <td>7 years</td>\n",
       "      <td>0</td>\n",
       "    </tr>\n",
       "    <tr>\n",
       "      <th>1</th>\n",
       "      <td>1690660</td>\n",
       "      <td>2000</td>\n",
       "      <td>2000.00</td>\n",
       "      <td>17.27%</td>\n",
       "      <td>36 months</td>\n",
       "      <td>C5</td>\n",
       "      <td>Car financing</td>\n",
       "      <td>car</td>\n",
       "      <td>71.58</td>\n",
       "      <td>2000</td>\n",
       "      <td>...</td>\n",
       "      <td>3.0</td>\n",
       "      <td>0.0</td>\n",
       "      <td>0.0</td>\n",
       "      <td>0.0</td>\n",
       "      <td>30.0</td>\n",
       "      <td>0.0</td>\n",
       "      <td>NaN</td>\n",
       "      <td>NaN</td>\n",
       "      <td>1 year</td>\n",
       "      <td>1</td>\n",
       "    </tr>\n",
       "    <tr>\n",
       "      <th>2</th>\n",
       "      <td>2301695</td>\n",
       "      <td>9000</td>\n",
       "      <td>9000.00</td>\n",
       "      <td>7.90%</td>\n",
       "      <td>36 months</td>\n",
       "      <td>A4</td>\n",
       "      <td>Bundle Loan</td>\n",
       "      <td>debt_consolidation</td>\n",
       "      <td>281.62</td>\n",
       "      <td>9000</td>\n",
       "      <td>...</td>\n",
       "      <td>0.0</td>\n",
       "      <td>0.0</td>\n",
       "      <td>0.0</td>\n",
       "      <td>2.0</td>\n",
       "      <td>10.0</td>\n",
       "      <td>0.0</td>\n",
       "      <td>NaN</td>\n",
       "      <td>NaN</td>\n",
       "      <td>&lt; 1 year</td>\n",
       "      <td>0</td>\n",
       "    </tr>\n",
       "    <tr>\n",
       "      <th>3</th>\n",
       "      <td>844352</td>\n",
       "      <td>13000</td>\n",
       "      <td>13000.00</td>\n",
       "      <td>11.99%</td>\n",
       "      <td>36 months</td>\n",
       "      <td>B5</td>\n",
       "      <td>Payback</td>\n",
       "      <td>debt_consolidation</td>\n",
       "      <td>431.73</td>\n",
       "      <td>13000</td>\n",
       "      <td>...</td>\n",
       "      <td>1.0</td>\n",
       "      <td>0.0</td>\n",
       "      <td>0.0</td>\n",
       "      <td>0.0</td>\n",
       "      <td>58.0</td>\n",
       "      <td>0.0</td>\n",
       "      <td>NaN</td>\n",
       "      <td>NaN</td>\n",
       "      <td>5 years</td>\n",
       "      <td>1</td>\n",
       "    </tr>\n",
       "    <tr>\n",
       "      <th>4</th>\n",
       "      <td>330773</td>\n",
       "      <td>10000</td>\n",
       "      <td>1525.01</td>\n",
       "      <td>10.71%</td>\n",
       "      <td>36 months</td>\n",
       "      <td>B5</td>\n",
       "      <td>Business Loan</td>\n",
       "      <td>other</td>\n",
       "      <td>163.01</td>\n",
       "      <td>5000</td>\n",
       "      <td>...</td>\n",
       "      <td>1.0</td>\n",
       "      <td>0.0</td>\n",
       "      <td>0.0</td>\n",
       "      <td>0.0</td>\n",
       "      <td>45.0</td>\n",
       "      <td>0.0</td>\n",
       "      <td>NaN</td>\n",
       "      <td>NaN</td>\n",
       "      <td>&lt; 1 year</td>\n",
       "      <td>0</td>\n",
       "    </tr>\n",
       "  </tbody>\n",
       "</table>\n",
       "<p>5 rows × 31 columns</p>\n",
       "</div>"
      ],
      "text/plain": [
       "   Loan ID  Amount Requested  Amount Funded By Investors Interest Rate  \\\n",
       "0  2227104             12000                    12000.00        13.11%   \n",
       "1  1690660              2000                     2000.00        17.27%   \n",
       "2  2301695              9000                     9000.00         7.90%   \n",
       "3   844352             13000                    13000.00        11.99%   \n",
       "4   330773             10000                     1525.01        10.71%   \n",
       "\n",
       "  Loan Length CREDIT Grade               Loan Title        Loan Purpose  \\\n",
       "0   36 months           B4  Credit card refinancing         credit_card   \n",
       "1   36 months           C5            Car financing                 car   \n",
       "2   36 months           A4              Bundle Loan  debt_consolidation   \n",
       "3   36 months           B5                  Payback  debt_consolidation   \n",
       "4   36 months           B5            Business Loan               other   \n",
       "\n",
       "   Monthly PAYMENT  Total Amount Funded                ...                  \\\n",
       "0           404.97                12000                ...                   \n",
       "1            71.58                 2000                ...                   \n",
       "2           281.62                 9000                ...                   \n",
       "3           431.73                13000                ...                   \n",
       "4           163.01                 5000                ...                   \n",
       "\n",
       "  Inquiries in the Last 6 Months Accounts Now Delinquent Delinquent Amount  \\\n",
       "0                            0.0                     0.0               0.0   \n",
       "1                            3.0                     0.0               0.0   \n",
       "2                            0.0                     0.0               0.0   \n",
       "3                            1.0                     0.0               0.0   \n",
       "4                            1.0                     0.0               0.0   \n",
       "\n",
       "  Delinquencies (Last 2 yrs)  Months Since Last Delinquency  \\\n",
       "0                        0.0                           34.0   \n",
       "1                        0.0                           30.0   \n",
       "2                        2.0                           10.0   \n",
       "3                        0.0                           58.0   \n",
       "4                        0.0                           45.0   \n",
       "\n",
       "  Public Records On File Months Since Last Record  Education  \\\n",
       "0                    0.0                      NaN        NaN   \n",
       "1                    0.0                      NaN        NaN   \n",
       "2                    0.0                      NaN        NaN   \n",
       "3                    0.0                      NaN        NaN   \n",
       "4                    0.0                      NaN        NaN   \n",
       "\n",
       "   Employment Length  Status (Fully Paid=1, Not Paid=0)  \n",
       "0            7 years                                  0  \n",
       "1             1 year                                  1  \n",
       "2           < 1 year                                  0  \n",
       "3            5 years                                  1  \n",
       "4           < 1 year                                  0  \n",
       "\n",
       "[5 rows x 31 columns]"
      ]
     },
     "execution_count": 947,
     "metadata": {},
     "output_type": "execute_result"
    }
   ],
   "source": [
    "import pandas as pd\n",
    "df= pd.read_csv('Loan_Training.csv')\n",
    "df.head()"
   ]
  },
  {
   "cell_type": "code",
   "execution_count": 948,
   "metadata": {},
   "outputs": [
    {
     "name": "stdout",
     "output_type": "stream",
     "text": [
      "(19978, 27)\n"
     ]
    }
   ],
   "source": [
    "#create a copy of the original data\n",
    "df1 = df.copy()\n",
    "\n",
    "#drop columns that have more than 3 N.A values\n",
    "df1 = df1.dropna(thresh=25)\n",
    "\n",
    "\n",
    "#delete columns that are irrelevant\n",
    "del df1['Loan Title']\n",
    "del df1['Loan ID']\n",
    "del df1['City']\n",
    "del df1['Earliest CREDIT Line']\n",
    "print(df1.shape)\n",
    "import numpy as np\n",
    "\n",
    "#changing values of certain columns from percentage (%) to decimal\n",
    "\n",
    "df1['Interest Rate'] = df1['Interest Rate'].replace('%','',regex=True).astype('float')/100\n",
    "df1['Debt-To-Income Ratio'] = df1['Debt-To-Income Ratio'].replace('%','',regex=True).astype('float')/100    \n",
    "df1['Revolving Line Utilization'] = df1['Revolving Line Utilization'].replace('%','',regex=True).astype('float')/100\n",
    "\n",
    "\n",
    "df1.head()\n",
    "\n",
    "#normalizing the values of education\n",
    "\n",
    "df1['Education'] = df1['Education'].replace(np.nan, 'Not Applicable', regex=True)\n",
    "df1['Education'] = df1['Education'].replace(['n/a','none','None','NONE','undefined'], 'Not Applicable', regex=True)\n",
    "searchForUni = ['uni','A&M','UCLA','V.C.U','unc','vcu','sdsu','san diego','Penn State','SUNY','Technology','UC','Dartmouth','FMU']\n",
    "df1.loc[df1['Education'].str.contains('|'.join(searchForUni),case=False),'Education'] = 'University'\n",
    "searchForCollege = ['college','ccny','NYCCT','coll']\n",
    "df1.loc[df1['Education'].str.contains('|'.join(searchForCollege),case=False),'Education'] = 'College'\n",
    "searchForVocational = ['tech','institute','Academy','Navy','vocational']\n",
    "df1.loc[df1['Education'].str.contains('|'.join(searchForVocational),case=False),'Education'] = 'Vocational/Military School'\n",
    "\n",
    "getTheRest = ['Not Applicable','University','College','Vocational/Military School']\n",
    "df1.loc[~df1['Education'].isin(getTheRest),'Education'] = 'High School and Others'  \n",
    "\n"
   ]
  },
  {
   "cell_type": "code",
   "execution_count": 949,
   "metadata": {
    "collapsed": true
   },
   "outputs": [],
   "source": []
  },
  {
   "cell_type": "code",
   "execution_count": 951,
   "metadata": {
    "collapsed": true
   },
   "outputs": [],
   "source": []
  },
  {
   "cell_type": "code",
   "execution_count": 952,
   "metadata": {},
   "outputs": [
    {
     "data": {
      "text/plain": [
       "array(['7 years', '1 year', '< 1 year', '5 years', '10+ years', '3 years',\n",
       "       '4 years', '6 years', '2 years', '8 years', '9 years'], dtype=object)"
      ]
     },
     "execution_count": 952,
     "metadata": {},
     "output_type": "execute_result"
    }
   ],
   "source": [
    "#normalizing values of Employment Length\n",
    "\n",
    "df1['Employment Length'] = df1['Employment Length'].replace('n/a','< 1 year',regex=True)\n",
    "\n"
   ]
  },
  {
   "cell_type": "code",
   "execution_count": null,
   "metadata": {},
   "outputs": [],
   "source": []
  },
  {
   "cell_type": "code",
   "execution_count": 954,
   "metadata": {},
   "outputs": [
    {
     "data": {
      "text/plain": [
       "680-684    1340\n",
       "685-689    1288\n",
       "675-679    1261\n",
       "670-674    1244\n",
       "690-694    1204\n",
       "665-669    1107\n",
       "695-699    1092\n",
       "700-704    1059\n",
       "705-709     973\n",
       "660-664     965\n",
       "710-714     797\n",
       "725-729     746\n",
       "715-719     743\n",
       "720-724     742\n",
       "730-734     608\n",
       "735-739     566\n",
       "740-744     538\n",
       "750-754     476\n",
       "745-749     421\n",
       "755-759     390\n",
       "760-764     365\n",
       "770-774     278\n",
       "765-769     277\n",
       "775-779     239\n",
       "780-784     203\n",
       "790-794     161\n",
       "785-789     143\n",
       "795-799     130\n",
       "655-659      93\n",
       "800-804      90\n",
       "650-654      86\n",
       "640-644      85\n",
       "645-649      84\n",
       "805-809      75\n",
       "810-814      58\n",
       "815-819      18\n",
       "820-824      14\n",
       "825-829       9\n",
       "830-834       6\n",
       "840-844       3\n",
       "835-839       1\n",
       "Name: FICO Range, dtype: int64"
      ]
     },
     "execution_count": 954,
     "metadata": {},
     "output_type": "execute_result"
    }
   ],
   "source": [
    "#changing values of FICO RANGE : NaN into mode\n",
    "df1['FICO Range'] = df1['FICO Range'].replace(np.nan, '680-684', regex=True)"
   ]
  },
  {
   "cell_type": "code",
   "execution_count": 955,
   "metadata": {
    "collapsed": true
   },
   "outputs": [],
   "source": []
  },
  {
   "cell_type": "code",
   "execution_count": 956,
   "metadata": {
    "collapsed": true
   },
   "outputs": [],
   "source": [
    "#helper functions to generate random numbers that follow a normal distribution with mean and sigma determined from the exisiting\n",
    "#values inthe column\n",
    "def NaNgenerateRandom(df):\n",
    "    mu = df.mean()\n",
    "    std = df.std()\n",
    "    a = df.values\n",
    "    m = np.isnan(a) #no. of NANs\n",
    "    a[m] = np.random.normal(mu,std,size=m.sum())\n",
    "    a[m] = [int(round(x)) for x in a[m]]\n",
    "    a[m] = [abs(x) for x in a[m]]\n",
    "    return df\n",
    "#to ensure that 0.5 does not get rounded up to 1\n",
    "def NaNgenerateRandomPercent(df):\n",
    "    mu = df.mean()\n",
    "    std = df.std()\n",
    "    a = df.values\n",
    "    m = np.isnan(a) #no. of NANs\n",
    "    a[m] = np.random.normal(mu,std,size=m.sum())\n",
    "    a[m] = [abs(x) for x in a[m]]\n",
    "    return df"
   ]
  },
  {
   "cell_type": "code",
   "execution_count": 957,
   "metadata": {
    "collapsed": true
   },
   "outputs": [],
   "source": [
    "#more normalizing\n",
    "df1['Months Since Last Record'] = NaNgenerateRandom(df1['Months Since Last Record'])"
   ]
  },
  {
   "cell_type": "code",
   "execution_count": 958,
   "metadata": {
    "collapsed": true
   },
   "outputs": [],
   "source": []
  },
  {
   "cell_type": "code",
   "execution_count": 959,
   "metadata": {
    "collapsed": true
   },
   "outputs": [],
   "source": [
    "#Randomize NaN with 0-5 based on their respective probabilities in the columns.\n",
    "odds = [0.95405,0.04445,0.0014,0.00005,0.00005]\n",
    "df1['Public Records On File'] = df1['Public Records On File'].replace(np.nan,np.random.choice(np.arange(0, 5), p=odds),regex=True)"
   ]
  },
  {
   "cell_type": "code",
   "execution_count": null,
   "metadata": {
    "collapsed": true
   },
   "outputs": [],
   "source": []
  },
  {
   "cell_type": "code",
   "execution_count": 961,
   "metadata": {
    "collapsed": true
   },
   "outputs": [],
   "source": [
    "df1['Months Since Last Delinquency'] = NaNgenerateRandom(df1['Months Since Last Delinquency'])\n"
   ]
  },
  {
   "cell_type": "code",
   "execution_count": 962,
   "metadata": {
    "collapsed": true
   },
   "outputs": [],
   "source": []
  },
  {
   "cell_type": "code",
   "execution_count": 963,
   "metadata": {
    "collapsed": true
   },
   "outputs": [],
   "source": [
    "df1['Delinquencies (Last 2 yrs)'] = NaNgenerateRandom(df1['Delinquencies (Last 2 yrs)'])"
   ]
  },
  {
   "cell_type": "code",
   "execution_count": 964,
   "metadata": {
    "collapsed": true
   },
   "outputs": [],
   "source": []
  },
  {
   "cell_type": "code",
   "execution_count": 965,
   "metadata": {
    "collapsed": true
   },
   "outputs": [],
   "source": [
    "#randomize based on existing probabilities of the values in the column\n",
    "df1['Delinquent Amount'].value_counts()\n",
    "odds = ['0'] * 19968 +['334'] * 1 + ['3941.0'] * 1\n",
    "df1['Delinquent Amount'] = df1['Delinquent Amount'].replace(np.nan,np.random.choice(odds),regex=True)\n"
   ]
  },
  {
   "cell_type": "code",
   "execution_count": 966,
   "metadata": {
    "collapsed": true
   },
   "outputs": [],
   "source": [
    "df1['Revolving Line Utilization'] = NaNgenerateRandomPercent(df1['Revolving Line Utilization'])"
   ]
  },
  {
   "cell_type": "code",
   "execution_count": 967,
   "metadata": {
    "collapsed": true
   },
   "outputs": [],
   "source": [
    "df1['Accounts Now Delinquent'].value_counts()\n",
    "odds = [0.99,0.01]\n",
    "df1['Accounts Now Delinquent'] = df1['Accounts Now Delinquent'].replace(np.nan,np.random.choice(np.arange(0, 2), p=odds),regex=True)"
   ]
  },
  {
   "cell_type": "code",
   "execution_count": 968,
   "metadata": {
    "collapsed": true
   },
   "outputs": [],
   "source": [
    "df1['Revolving CREDIT Balance'] = NaNgenerateRandom(df1['Revolving CREDIT Balance'])"
   ]
  },
  {
   "cell_type": "code",
   "execution_count": 969,
   "metadata": {
    "collapsed": true
   },
   "outputs": [],
   "source": [
    "\n",
    "df1['Inquiries in the Last 6 Months'] = NaNgenerateRandom(df1['Inquiries in the Last 6 Months'])\n"
   ]
  },
  {
   "cell_type": "code",
   "execution_count": 970,
   "metadata": {
    "collapsed": true
   },
   "outputs": [],
   "source": [
    "df1['Total CREDIT Lines'] = NaNgenerateRandom(df1['Total CREDIT Lines'])"
   ]
  },
  {
   "cell_type": "code",
   "execution_count": 971,
   "metadata": {
    "collapsed": true
   },
   "outputs": [],
   "source": [
    "df1['Open CREDIT Lines'] = NaNgenerateRandom(df1['Open CREDIT Lines'])"
   ]
  },
  {
   "cell_type": "code",
   "execution_count": 972,
   "metadata": {
    "collapsed": true
   },
   "outputs": [],
   "source": [
    "#ensure no negative values\n",
    "df1.loc[(df1['Monthly Income']< 0,'Monthly Income')] = 0"
   ]
  },
  {
   "cell_type": "code",
   "execution_count": 973,
   "metadata": {
    "collapsed": true
   },
   "outputs": [],
   "source": [
    "df1['Debt-To-Income Ratio'] = NaNgenerateRandomPercent(df1['Debt-To-Income Ratio'])\n",
    "df1['Interest Rate'] = NaNgenerateRandomPercent(df1['Interest Rate'])"
   ]
  },
  {
   "cell_type": "code",
   "execution_count": 974,
   "metadata": {
    "collapsed": true
   },
   "outputs": [],
   "source": [
    "df1.loc[(df1['Total Amount Funded']< 0, 'Total Amount Funded')] = 0"
   ]
  },
  {
   "cell_type": "code",
   "execution_count": 975,
   "metadata": {
    "collapsed": true
   },
   "outputs": [],
   "source": [
    "df1.loc[(df1['Monthly PAYMENT']< 0, 'Monthly PAYMENT')] = 0"
   ]
  },
  {
   "cell_type": "code",
   "execution_count": 976,
   "metadata": {},
   "outputs": [
    {
     "data": {
      "text/plain": [
       "36 months    16703\n",
       "60 months     3275\n",
       "Name: Loan Length, dtype: int64"
      ]
     },
     "execution_count": 976,
     "metadata": {},
     "output_type": "execute_result"
    }
   ],
   "source": [
    "df1.loc[(df1['Amount Requested']< 0, 'Amount Requested')] = 0\n",
    "df1.loc[(df1['Amount Funded By Investors']< 0, 'Amount Funded By Investors')] = 0"
   ]
  },
  {
   "cell_type": "code",
   "execution_count": 977,
   "metadata": {},
   "outputs": [
    {
     "data": {
      "text/plain": [
       "array(['36 ', '60 '], dtype=object)"
      ]
     },
     "execution_count": 977,
     "metadata": {},
     "output_type": "execute_result"
    }
   ],
   "source": [
    "#get rid of the 'months' behind 36 and 60\n",
    "odds = ['36 months'] * 16725 + ['60 months'] * 3275\n",
    "df1['Loan Length'] = df1['Loan Length'].replace(np.nan,np.random.choice(odds),regex=True)\n",
    "df1['Loan Length'] = df1['Loan Length'].replace('months','',regex=True)\n"
   ]
  },
  {
   "cell_type": "code",
   "execution_count": null,
   "metadata": {
    "collapsed": true
   },
   "outputs": [],
   "source": []
  },
  {
   "cell_type": "code",
   "execution_count": null,
   "metadata": {},
   "outputs": [],
   "source": [
    "#write to file"
   ]
  },
  {
   "cell_type": "code",
   "execution_count": 980,
   "metadata": {
    "collapsed": true
   },
   "outputs": [],
   "source": [
    "df1.to_csv('cleanTrain.csv', encoding='utf-8',index= False)"
   ]
  },
  {
   "cell_type": "code",
   "execution_count": 981,
   "metadata": {},
   "outputs": [
    {
     "data": {
      "text/html": [
       "<div>\n",
       "<style>\n",
       "    .dataframe thead tr:only-child th {\n",
       "        text-align: right;\n",
       "    }\n",
       "\n",
       "    .dataframe thead th {\n",
       "        text-align: left;\n",
       "    }\n",
       "\n",
       "    .dataframe tbody tr th {\n",
       "        vertical-align: top;\n",
       "    }\n",
       "</style>\n",
       "<table border=\"1\" class=\"dataframe\">\n",
       "  <thead>\n",
       "    <tr style=\"text-align: right;\">\n",
       "      <th></th>\n",
       "      <th>Amount Requested</th>\n",
       "      <th>Amount Funded By Investors</th>\n",
       "      <th>Interest Rate</th>\n",
       "      <th>Loan Length</th>\n",
       "      <th>CREDIT Grade</th>\n",
       "      <th>Loan Purpose</th>\n",
       "      <th>Monthly PAYMENT</th>\n",
       "      <th>Total Amount Funded</th>\n",
       "      <th>Debt-To-Income Ratio</th>\n",
       "      <th>State</th>\n",
       "      <th>...</th>\n",
       "      <th>Inquiries in the Last 6 Months</th>\n",
       "      <th>Accounts Now Delinquent</th>\n",
       "      <th>Delinquent Amount</th>\n",
       "      <th>Delinquencies (Last 2 yrs)</th>\n",
       "      <th>Months Since Last Delinquency</th>\n",
       "      <th>Public Records On File</th>\n",
       "      <th>Months Since Last Record</th>\n",
       "      <th>Education</th>\n",
       "      <th>Employment Length</th>\n",
       "      <th>Status (Fully Paid=1, Not Paid=0)</th>\n",
       "    </tr>\n",
       "  </thead>\n",
       "  <tbody>\n",
       "    <tr>\n",
       "      <th>0</th>\n",
       "      <td>12000</td>\n",
       "      <td>12000.00</td>\n",
       "      <td>0.1311</td>\n",
       "      <td>36</td>\n",
       "      <td>B4</td>\n",
       "      <td>credit_card</td>\n",
       "      <td>404.97</td>\n",
       "      <td>12000</td>\n",
       "      <td>0.1524</td>\n",
       "      <td>CA</td>\n",
       "      <td>...</td>\n",
       "      <td>0.0</td>\n",
       "      <td>0.0</td>\n",
       "      <td>0.0</td>\n",
       "      <td>0.0</td>\n",
       "      <td>34.0</td>\n",
       "      <td>0.0</td>\n",
       "      <td>115.0</td>\n",
       "      <td>Not Applicable</td>\n",
       "      <td>7 years</td>\n",
       "      <td>0</td>\n",
       "    </tr>\n",
       "    <tr>\n",
       "      <th>1</th>\n",
       "      <td>2000</td>\n",
       "      <td>2000.00</td>\n",
       "      <td>0.1727</td>\n",
       "      <td>36</td>\n",
       "      <td>C5</td>\n",
       "      <td>car</td>\n",
       "      <td>71.58</td>\n",
       "      <td>2000</td>\n",
       "      <td>0.1207</td>\n",
       "      <td>FL</td>\n",
       "      <td>...</td>\n",
       "      <td>3.0</td>\n",
       "      <td>0.0</td>\n",
       "      <td>0.0</td>\n",
       "      <td>0.0</td>\n",
       "      <td>30.0</td>\n",
       "      <td>0.0</td>\n",
       "      <td>59.0</td>\n",
       "      <td>Not Applicable</td>\n",
       "      <td>1 year</td>\n",
       "      <td>1</td>\n",
       "    </tr>\n",
       "    <tr>\n",
       "      <th>2</th>\n",
       "      <td>9000</td>\n",
       "      <td>9000.00</td>\n",
       "      <td>0.0790</td>\n",
       "      <td>36</td>\n",
       "      <td>A4</td>\n",
       "      <td>debt_consolidation</td>\n",
       "      <td>281.62</td>\n",
       "      <td>9000</td>\n",
       "      <td>0.2001</td>\n",
       "      <td>GA</td>\n",
       "      <td>...</td>\n",
       "      <td>0.0</td>\n",
       "      <td>0.0</td>\n",
       "      <td>0.0</td>\n",
       "      <td>2.0</td>\n",
       "      <td>10.0</td>\n",
       "      <td>0.0</td>\n",
       "      <td>107.0</td>\n",
       "      <td>Not Applicable</td>\n",
       "      <td>&lt; 1 year</td>\n",
       "      <td>0</td>\n",
       "    </tr>\n",
       "    <tr>\n",
       "      <th>3</th>\n",
       "      <td>13000</td>\n",
       "      <td>13000.00</td>\n",
       "      <td>0.1199</td>\n",
       "      <td>36</td>\n",
       "      <td>B5</td>\n",
       "      <td>debt_consolidation</td>\n",
       "      <td>431.73</td>\n",
       "      <td>13000</td>\n",
       "      <td>0.0759</td>\n",
       "      <td>MN</td>\n",
       "      <td>...</td>\n",
       "      <td>1.0</td>\n",
       "      <td>0.0</td>\n",
       "      <td>0.0</td>\n",
       "      <td>0.0</td>\n",
       "      <td>58.0</td>\n",
       "      <td>0.0</td>\n",
       "      <td>8.0</td>\n",
       "      <td>Not Applicable</td>\n",
       "      <td>5 years</td>\n",
       "      <td>1</td>\n",
       "    </tr>\n",
       "    <tr>\n",
       "      <th>4</th>\n",
       "      <td>10000</td>\n",
       "      <td>1525.01</td>\n",
       "      <td>0.1071</td>\n",
       "      <td>36</td>\n",
       "      <td>B5</td>\n",
       "      <td>other</td>\n",
       "      <td>163.01</td>\n",
       "      <td>5000</td>\n",
       "      <td>0.1248</td>\n",
       "      <td>NV</td>\n",
       "      <td>...</td>\n",
       "      <td>1.0</td>\n",
       "      <td>0.0</td>\n",
       "      <td>0.0</td>\n",
       "      <td>0.0</td>\n",
       "      <td>45.0</td>\n",
       "      <td>0.0</td>\n",
       "      <td>4.0</td>\n",
       "      <td>Not Applicable</td>\n",
       "      <td>&lt; 1 year</td>\n",
       "      <td>0</td>\n",
       "    </tr>\n",
       "  </tbody>\n",
       "</table>\n",
       "<p>5 rows × 27 columns</p>\n",
       "</div>"
      ],
      "text/plain": [
       "   Amount Requested  Amount Funded By Investors  Interest Rate  Loan Length  \\\n",
       "0             12000                    12000.00         0.1311           36   \n",
       "1              2000                     2000.00         0.1727           36   \n",
       "2              9000                     9000.00         0.0790           36   \n",
       "3             13000                    13000.00         0.1199           36   \n",
       "4             10000                     1525.01         0.1071           36   \n",
       "\n",
       "  CREDIT Grade        Loan Purpose  Monthly PAYMENT  Total Amount Funded  \\\n",
       "0           B4         credit_card           404.97                12000   \n",
       "1           C5                 car            71.58                 2000   \n",
       "2           A4  debt_consolidation           281.62                 9000   \n",
       "3           B5  debt_consolidation           431.73                13000   \n",
       "4           B5               other           163.01                 5000   \n",
       "\n",
       "   Debt-To-Income Ratio State                ...                  \\\n",
       "0                0.1524    CA                ...                   \n",
       "1                0.1207    FL                ...                   \n",
       "2                0.2001    GA                ...                   \n",
       "3                0.0759    MN                ...                   \n",
       "4                0.1248    NV                ...                   \n",
       "\n",
       "  Inquiries in the Last 6 Months  Accounts Now Delinquent Delinquent Amount  \\\n",
       "0                            0.0                      0.0               0.0   \n",
       "1                            3.0                      0.0               0.0   \n",
       "2                            0.0                      0.0               0.0   \n",
       "3                            1.0                      0.0               0.0   \n",
       "4                            1.0                      0.0               0.0   \n",
       "\n",
       "   Delinquencies (Last 2 yrs)  Months Since Last Delinquency  \\\n",
       "0                         0.0                           34.0   \n",
       "1                         0.0                           30.0   \n",
       "2                         2.0                           10.0   \n",
       "3                         0.0                           58.0   \n",
       "4                         0.0                           45.0   \n",
       "\n",
       "   Public Records On File  Months Since Last Record       Education  \\\n",
       "0                     0.0                     115.0  Not Applicable   \n",
       "1                     0.0                      59.0  Not Applicable   \n",
       "2                     0.0                     107.0  Not Applicable   \n",
       "3                     0.0                       8.0  Not Applicable   \n",
       "4                     0.0                       4.0  Not Applicable   \n",
       "\n",
       "   Employment Length  Status (Fully Paid=1, Not Paid=0)  \n",
       "0            7 years                                  0  \n",
       "1             1 year                                  1  \n",
       "2           < 1 year                                  0  \n",
       "3            5 years                                  1  \n",
       "4           < 1 year                                  0  \n",
       "\n",
       "[5 rows x 27 columns]"
      ]
     },
     "execution_count": 981,
     "metadata": {},
     "output_type": "execute_result"
    }
   ],
   "source": []
  },
  {
   "cell_type": "code",
   "execution_count": null,
   "metadata": {
    "collapsed": true
   },
   "outputs": [],
   "source": []
  },
  {
   "cell_type": "code",
   "execution_count": null,
   "metadata": {
    "collapsed": true
   },
   "outputs": [],
   "source": []
  },
  {
   "cell_type": "code",
   "execution_count": null,
   "metadata": {
    "collapsed": true
   },
   "outputs": [],
   "source": []
  },
  {
   "cell_type": "code",
   "execution_count": 721,
   "metadata": {
    "collapsed": true
   },
   "outputs": [],
   "source": []
  }
 ],
 "metadata": {
  "kernelspec": {
   "display_name": "Python 3",
   "language": "python",
   "name": "python3"
  },
  "language_info": {
   "codemirror_mode": {
    "name": "ipython",
    "version": 3
   },
   "file_extension": ".py",
   "mimetype": "text/x-python",
   "name": "python",
   "nbconvert_exporter": "python",
   "pygments_lexer": "ipython3",
   "version": "3.6.1"
  }
 },
 "nbformat": 4,
 "nbformat_minor": 2
}
