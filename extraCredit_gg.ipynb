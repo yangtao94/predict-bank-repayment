{
 "cells": [
  {
   "cell_type": "code",
   "execution_count": 186,
   "metadata": {},
   "outputs": [
    {
     "data": {
      "text/html": [
       "<div>\n",
       "<style>\n",
       "    .dataframe thead tr:only-child th {\n",
       "        text-align: right;\n",
       "    }\n",
       "\n",
       "    .dataframe thead th {\n",
       "        text-align: left;\n",
       "    }\n",
       "\n",
       "    .dataframe tbody tr th {\n",
       "        vertical-align: top;\n",
       "    }\n",
       "</style>\n",
       "<table border=\"1\" class=\"dataframe\">\n",
       "  <thead>\n",
       "    <tr style=\"text-align: right;\">\n",
       "      <th></th>\n",
       "      <th>Loan ID</th>\n",
       "      <th>Amount Requested</th>\n",
       "      <th>Amount Funded By Investors</th>\n",
       "      <th>Interest Rate</th>\n",
       "      <th>Loan Length</th>\n",
       "      <th>CREDIT Grade</th>\n",
       "      <th>Loan Title</th>\n",
       "      <th>Loan Purpose</th>\n",
       "      <th>Monthly PAYMENT</th>\n",
       "      <th>Total Amount Funded</th>\n",
       "      <th>...</th>\n",
       "      <th>Inquiries in the Last 6 Months</th>\n",
       "      <th>Accounts Now Delinquent</th>\n",
       "      <th>Delinquent Amount</th>\n",
       "      <th>Delinquencies (Last 2 yrs)</th>\n",
       "      <th>Months Since Last Delinquency</th>\n",
       "      <th>Public Records On File</th>\n",
       "      <th>Months Since Last Record</th>\n",
       "      <th>Education</th>\n",
       "      <th>Employment Length</th>\n",
       "      <th>Status (Fully Paid=1, Not Paid=0)</th>\n",
       "    </tr>\n",
       "  </thead>\n",
       "  <tbody>\n",
       "    <tr>\n",
       "      <th>0</th>\n",
       "      <td>1856772</td>\n",
       "      <td>10000</td>\n",
       "      <td>10000.00</td>\n",
       "      <td>10.16%</td>\n",
       "      <td>36 months</td>\n",
       "      <td>B1</td>\n",
       "      <td>Home improvement</td>\n",
       "      <td>home_improvement</td>\n",
       "      <td>323.43</td>\n",
       "      <td>10000</td>\n",
       "      <td>...</td>\n",
       "      <td>1.0</td>\n",
       "      <td>0.0</td>\n",
       "      <td>0.0</td>\n",
       "      <td>0.0</td>\n",
       "      <td>NaN</td>\n",
       "      <td>1.0</td>\n",
       "      <td>86.0</td>\n",
       "      <td>NaN</td>\n",
       "      <td>4 years</td>\n",
       "      <td>?</td>\n",
       "    </tr>\n",
       "    <tr>\n",
       "      <th>1</th>\n",
       "      <td>544915</td>\n",
       "      <td>4800</td>\n",
       "      <td>4800.00</td>\n",
       "      <td>13.61%</td>\n",
       "      <td>36 months</td>\n",
       "      <td>C2</td>\n",
       "      <td>My Loan</td>\n",
       "      <td>debt_consolidation</td>\n",
       "      <td>163.15</td>\n",
       "      <td>4800</td>\n",
       "      <td>...</td>\n",
       "      <td>0.0</td>\n",
       "      <td>0.0</td>\n",
       "      <td>0.0</td>\n",
       "      <td>0.0</td>\n",
       "      <td>39.0</td>\n",
       "      <td>0.0</td>\n",
       "      <td>NaN</td>\n",
       "      <td>NaN</td>\n",
       "      <td>&lt; 1 year</td>\n",
       "      <td>?</td>\n",
       "    </tr>\n",
       "    <tr>\n",
       "      <th>2</th>\n",
       "      <td>2079551</td>\n",
       "      <td>10000</td>\n",
       "      <td>10000.00</td>\n",
       "      <td>12.12%</td>\n",
       "      <td>36 months</td>\n",
       "      <td>B3</td>\n",
       "      <td>consoliate</td>\n",
       "      <td>debt_consolidation</td>\n",
       "      <td>332.72</td>\n",
       "      <td>10000</td>\n",
       "      <td>...</td>\n",
       "      <td>2.0</td>\n",
       "      <td>0.0</td>\n",
       "      <td>0.0</td>\n",
       "      <td>1.0</td>\n",
       "      <td>8.0</td>\n",
       "      <td>0.0</td>\n",
       "      <td>NaN</td>\n",
       "      <td>NaN</td>\n",
       "      <td>n/a</td>\n",
       "      <td>?</td>\n",
       "    </tr>\n",
       "    <tr>\n",
       "      <th>3</th>\n",
       "      <td>2514828</td>\n",
       "      <td>5350</td>\n",
       "      <td>5350.00</td>\n",
       "      <td>15.80%</td>\n",
       "      <td>36 months</td>\n",
       "      <td>C3</td>\n",
       "      <td>Debt Consoldation</td>\n",
       "      <td>debt_consolidation</td>\n",
       "      <td>0.00</td>\n",
       "      <td>5350</td>\n",
       "      <td>...</td>\n",
       "      <td>1.0</td>\n",
       "      <td>0.0</td>\n",
       "      <td>0.0</td>\n",
       "      <td>1.0</td>\n",
       "      <td>12.0</td>\n",
       "      <td>0.0</td>\n",
       "      <td>NaN</td>\n",
       "      <td>NaN</td>\n",
       "      <td>1 year</td>\n",
       "      <td>?</td>\n",
       "    </tr>\n",
       "    <tr>\n",
       "      <th>4</th>\n",
       "      <td>396145</td>\n",
       "      <td>13000</td>\n",
       "      <td>2997.38</td>\n",
       "      <td>14.74%</td>\n",
       "      <td>36 months</td>\n",
       "      <td>D3</td>\n",
       "      <td>i always make my payment.</td>\n",
       "      <td>debt_consolidation</td>\n",
       "      <td>448.98</td>\n",
       "      <td>13000</td>\n",
       "      <td>...</td>\n",
       "      <td>3.0</td>\n",
       "      <td>0.0</td>\n",
       "      <td>0.0</td>\n",
       "      <td>0.0</td>\n",
       "      <td>NaN</td>\n",
       "      <td>0.0</td>\n",
       "      <td>NaN</td>\n",
       "      <td>Jefferson Community College-Louisville</td>\n",
       "      <td>3 years</td>\n",
       "      <td>?</td>\n",
       "    </tr>\n",
       "  </tbody>\n",
       "</table>\n",
       "<p>5 rows × 31 columns</p>\n",
       "</div>"
      ],
      "text/plain": [
       "   Loan ID  Amount Requested  Amount Funded By Investors Interest Rate  \\\n",
       "0  1856772             10000                    10000.00        10.16%   \n",
       "1   544915              4800                     4800.00        13.61%   \n",
       "2  2079551             10000                    10000.00        12.12%   \n",
       "3  2514828              5350                     5350.00        15.80%   \n",
       "4   396145             13000                     2997.38        14.74%   \n",
       "\n",
       "  Loan Length CREDIT Grade                 Loan Title        Loan Purpose  \\\n",
       "0   36 months           B1           Home improvement    home_improvement   \n",
       "1   36 months           C2                    My Loan  debt_consolidation   \n",
       "2   36 months           B3                 consoliate  debt_consolidation   \n",
       "3   36 months           C3          Debt Consoldation  debt_consolidation   \n",
       "4   36 months           D3  i always make my payment.  debt_consolidation   \n",
       "\n",
       "   Monthly PAYMENT  Total Amount Funded                ...                  \\\n",
       "0           323.43                10000                ...                   \n",
       "1           163.15                 4800                ...                   \n",
       "2           332.72                10000                ...                   \n",
       "3             0.00                 5350                ...                   \n",
       "4           448.98                13000                ...                   \n",
       "\n",
       "  Inquiries in the Last 6 Months Accounts Now Delinquent Delinquent Amount  \\\n",
       "0                            1.0                     0.0               0.0   \n",
       "1                            0.0                     0.0               0.0   \n",
       "2                            2.0                     0.0               0.0   \n",
       "3                            1.0                     0.0               0.0   \n",
       "4                            3.0                     0.0               0.0   \n",
       "\n",
       "  Delinquencies (Last 2 yrs)  Months Since Last Delinquency  \\\n",
       "0                        0.0                            NaN   \n",
       "1                        0.0                           39.0   \n",
       "2                        1.0                            8.0   \n",
       "3                        1.0                           12.0   \n",
       "4                        0.0                            NaN   \n",
       "\n",
       "  Public Records On File Months Since Last Record  \\\n",
       "0                    1.0                     86.0   \n",
       "1                    0.0                      NaN   \n",
       "2                    0.0                      NaN   \n",
       "3                    0.0                      NaN   \n",
       "4                    0.0                      NaN   \n",
       "\n",
       "                                Education  Employment Length  \\\n",
       "0                                     NaN            4 years   \n",
       "1                                     NaN           < 1 year   \n",
       "2                                     NaN                n/a   \n",
       "3                                     NaN             1 year   \n",
       "4  Jefferson Community College-Louisville            3 years   \n",
       "\n",
       "   Status (Fully Paid=1, Not Paid=0)  \n",
       "0                                  ?  \n",
       "1                                  ?  \n",
       "2                                  ?  \n",
       "3                                  ?  \n",
       "4                                  ?  \n",
       "\n",
       "[5 rows x 31 columns]"
      ]
     },
     "execution_count": 186,
     "metadata": {},
     "output_type": "execute_result"
    }
   ],
   "source": [
    "import pandas as pd\n",
    "df= pd.read_csv('Loan_ToPredict.csv')\n",
    "df.head()"
   ]
  },
  {
   "cell_type": "code",
   "execution_count": 220,
   "metadata": {},
   "outputs": [
    {
     "name": "stdout",
     "output_type": "stream",
     "text": [
      "(8239, 28)\n"
     ]
    }
   ],
   "source": [
    "#create a copy of the original data\n",
    "df1 = df.copy()\n",
    "\n",
    "#threshold = 0.2 * 20000\n",
    "#df1 = df1.dropna(axis=1,thresh= threshold)\n",
    "#df1 = df1.dropna(thresh=25)\n",
    "\n",
    "\n",
    "#delete columns that are irrelevant\n",
    "del df1['Loan Title']\n",
    "#del df1['Loan ID']\n",
    "del df1['City']\n",
    "del df1['Earliest CREDIT Line']\n",
    "#del df1['Education']\n",
    "#del df1['Months Since Last Record']\n",
    "print(df1.shape)\n",
    "import numpy as np\n",
    "#changing values of certain columns\n",
    "df1['Revolving Line Utilization'] = df1['Revolving Line Utilization'].replace(np.nan,'0%',regex = True)\n",
    "df1['Interest Rate'] = df1['Interest Rate'].replace(np.nan,'11.14%',regex = True)\n",
    "df1['Debt-To-Income Ratio'] = df1['Debt-To-Income Ratio'].replace(np.nan,'0%',regex = True)\n",
    "\n",
    "\n",
    "df1['Interest Rate'] = df1['Interest Rate'].replace('%','',regex=True).astype('float')/100\n",
    "df1['Debt-To-Income Ratio'] = df1['Debt-To-Income Ratio'].replace('%','',regex=True).astype('float')/100    \n",
    "df1['Revolving Line Utilization'] = df1['Revolving Line Utilization'].replace('%','',regex=True).astype('float')/100\n",
    "\n",
    "\n",
    "df1.head()\n",
    "\n",
    "#normalizing the values of education\n",
    "\n",
    "df1['Education'] = df1['Education'].replace(np.nan, 'Not Applicable', regex=True)\n",
    "df1['Education'] = df1['Education'].replace(['n/a','none','None','NONE','undefined'], 'Not Applicable', regex=True)\n",
    "searchForUni = ['uni','A&M','UCLA','V.C.U','unc','vcu','sdsu','san diego','Penn State','SUNY','Technology','UC','Dartmouth','FMU']\n",
    "df1.loc[df1['Education'].str.contains('|'.join(searchForUni),case=False),'Education'] = 'University'\n",
    "searchForCollege = ['college','ccny','NYCCT','coll']\n",
    "df1.loc[df1['Education'].str.contains('|'.join(searchForCollege),case=False),'Education'] = 'College'\n",
    "searchForVocational = ['tech','institute','Academy','Navy','vocational']\n",
    "df1.loc[df1['Education'].str.contains('|'.join(searchForVocational),case=False),'Education'] = 'Vocational/Military School'\n",
    "\n",
    "getTheRest = ['Not Applicable','University','College','Vocational/Military School']\n",
    "df1.loc[~df1['Education'].isin(getTheRest),'Education'] = 'High School and Others'  \n",
    "\n"
   ]
  },
  {
   "cell_type": "code",
   "execution_count": null,
   "metadata": {
    "collapsed": true
   },
   "outputs": [],
   "source": []
  },
  {
   "cell_type": "code",
   "execution_count": 221,
   "metadata": {
    "collapsed": true
   },
   "outputs": [],
   "source": [
    "#df1['Education'].value_counts()"
   ]
  },
  {
   "cell_type": "code",
   "execution_count": 222,
   "metadata": {
    "collapsed": true
   },
   "outputs": [],
   "source": [
    "#df1['FICO Range'].unique()\n",
    "\n",
    "\n",
    "#for column in df1:\n",
    "#    print(column, \" unique values!\")\n",
    "#    print(df1[column].unique())"
   ]
  },
  {
   "cell_type": "code",
   "execution_count": 223,
   "metadata": {},
   "outputs": [
    {
     "data": {
      "text/plain": [
       "array(['4 years', '< 1 year', '1 year', '3 years', '2 years', '6 years',\n",
       "       '10+ years', '5 years', '7 years', '9 years', '8 years'], dtype=object)"
      ]
     },
     "execution_count": 223,
     "metadata": {},
     "output_type": "execute_result"
    }
   ],
   "source": [
    "#normalizing values of Employment Length\n",
    "df1['Employment Length'].unique()\n",
    "df1['Employment Length'] = df1['Employment Length'].replace('n/a','< 1 year',regex=True)\n",
    "\n",
    "df1['Employment Length'].unique()"
   ]
  },
  {
   "cell_type": "code",
   "execution_count": 224,
   "metadata": {},
   "outputs": [
    {
     "data": {
      "text/plain": [
       "array(['4 years', '< 1 year', '1 year', '3 years', '2 years', '6 years',\n",
       "       '10+ years', '5 years', '7 years', '9 years', '8 years'], dtype=object)"
      ]
     },
     "execution_count": 224,
     "metadata": {},
     "output_type": "execute_result"
    }
   ],
   "source": [
    "df1['Employment Length'].unique()"
   ]
  },
  {
   "cell_type": "code",
   "execution_count": 225,
   "metadata": {},
   "outputs": [
    {
     "data": {
      "text/plain": [
       "680-684    541\n",
       "690-694    533\n",
       "675-679    527\n",
       "685-689    497\n",
       "695-699    493\n",
       "665-669    458\n",
       "670-674    445\n",
       "700-704    409\n",
       "715-719    388\n",
       "660-664    388\n",
       "705-709    385\n",
       "710-714    342\n",
       "720-724    330\n",
       "730-734    283\n",
       "725-729    278\n",
       "735-739    252\n",
       "740-744    223\n",
       "745-749    191\n",
       "750-754    179\n",
       "755-759    145\n",
       "760-764    143\n",
       "770-774    122\n",
       "765-769    108\n",
       "780-784     89\n",
       "775-779     81\n",
       "790-794     63\n",
       "785-789     54\n",
       "795-799     48\n",
       "800-804     46\n",
       "650-654     45\n",
       "805-809     36\n",
       "655-659     34\n",
       "645-649     28\n",
       "810-814     16\n",
       "640-644     16\n",
       "820-824      8\n",
       "815-819      7\n",
       "825-829      5\n",
       "830-834      2\n",
       "840-844      1\n",
       "Name: FICO Range, dtype: int64"
      ]
     },
     "execution_count": 225,
     "metadata": {},
     "output_type": "execute_result"
    }
   ],
   "source": [
    "#changing values of FICO RANGE : NaN into mode\n",
    "df1['FICO Range'] = df1['FICO Range'].replace(np.nan, '680-684', regex=True)\n",
    "\n",
    "df1['FICO Range'].value_counts()"
   ]
  },
  {
   "cell_type": "code",
   "execution_count": 226,
   "metadata": {
    "collapsed": true
   },
   "outputs": [],
   "source": [
    "#df1['Months Since Last Record'].describe()\n",
    "#change values of month since last record to mode\n"
   ]
  },
  {
   "cell_type": "code",
   "execution_count": 227,
   "metadata": {
    "collapsed": true
   },
   "outputs": [],
   "source": [
    "def NaNgenerateRandom(df):\n",
    "    mu = df.mean()\n",
    "    std = df.std()\n",
    "    a = df.values\n",
    "    m = np.isnan(a) #no. of NANs\n",
    "    a[m] = np.random.normal(mu,std,size=m.sum())\n",
    "    a[m] = [int(round(x)) for x in a[m]]\n",
    "    a[m] = [abs(x) for x in a[m]]\n",
    "    return df\n",
    "\n",
    "def NaNgenerateRandomPercent(df):\n",
    "    mu = df.mean()\n",
    "    std = df.std()\n",
    "    a = df.values\n",
    "    m = np.isnan(a) #no. of NANs\n",
    "    a[m] = np.random.normal(mu,std,size=m.sum())\n",
    "    a[m] = [abs(x) for x in a[m]]\n",
    "    return df"
   ]
  },
  {
   "cell_type": "code",
   "execution_count": 228,
   "metadata": {
    "collapsed": true
   },
   "outputs": [],
   "source": [
    "df1['Months Since Last Record'] = NaNgenerateRandom(df1['Months Since Last Record'])"
   ]
  },
  {
   "cell_type": "code",
   "execution_count": 229,
   "metadata": {
    "collapsed": true
   },
   "outputs": [],
   "source": [
    "#df1['Months Since Last Record'].describe()"
   ]
  },
  {
   "cell_type": "code",
   "execution_count": 230,
   "metadata": {
    "collapsed": true
   },
   "outputs": [],
   "source": [
    "#Randomize NaN with 0-5, with their respective probabilities\n",
    "odds = [0.95405,0.04445,0.0014,0.00005,0.00005]\n",
    "df1['Public Records On File'] = df1['Public Records On File'].replace(np.nan,np.random.choice(np.arange(0, 5), p=odds),regex=True)"
   ]
  },
  {
   "cell_type": "code",
   "execution_count": 231,
   "metadata": {
    "collapsed": true
   },
   "outputs": [],
   "source": [
    "#df1['Public Records On File'].value_counts()"
   ]
  },
  {
   "cell_type": "code",
   "execution_count": 232,
   "metadata": {
    "collapsed": true
   },
   "outputs": [],
   "source": [
    "df1['Months Since Last Delinquency'] = NaNgenerateRandom(df1['Months Since Last Delinquency'])\n",
    "#df1['Months Since Last Delinquency'].describe()"
   ]
  },
  {
   "cell_type": "code",
   "execution_count": 233,
   "metadata": {
    "collapsed": true
   },
   "outputs": [],
   "source": [
    "#df1['Delinquencies (Last 2 yrs)'].value_counts()"
   ]
  },
  {
   "cell_type": "code",
   "execution_count": 234,
   "metadata": {
    "collapsed": true
   },
   "outputs": [],
   "source": [
    "df1['Delinquencies (Last 2 yrs)'] = NaNgenerateRandom(df1['Delinquencies (Last 2 yrs)'])"
   ]
  },
  {
   "cell_type": "code",
   "execution_count": 235,
   "metadata": {
    "collapsed": true
   },
   "outputs": [],
   "source": [
    "#df1['Delinquencies (Last 2 yrs)'].value_counts()"
   ]
  },
  {
   "cell_type": "code",
   "execution_count": 236,
   "metadata": {
    "collapsed": true
   },
   "outputs": [],
   "source": [
    "df1['Delinquent Amount'].value_counts()\n",
    "odds = ['0'] * 8230 +['440'] * 1 + ['27.0'] * 1\n",
    "df1['Delinquent Amount'] = df1['Delinquent Amount'].replace(np.nan,np.random.choice(odds),regex=True)\n"
   ]
  },
  {
   "cell_type": "code",
   "execution_count": 237,
   "metadata": {
    "collapsed": true
   },
   "outputs": [],
   "source": [
    "df1['Revolving Line Utilization'] = NaNgenerateRandomPercent(df1['Revolving Line Utilization'])\n",
    "#df1['Revolving Line Utilization'].value_counts()"
   ]
  },
  {
   "cell_type": "code",
   "execution_count": 238,
   "metadata": {
    "collapsed": true
   },
   "outputs": [],
   "source": [
    "df1['Accounts Now Delinquent'].value_counts()\n",
    "odds = [0.99,0.01]\n",
    "df1['Accounts Now Delinquent'] = df1['Accounts Now Delinquent'].replace(np.nan,np.random.choice(np.arange(0, 2), p=odds),regex=True)"
   ]
  },
  {
   "cell_type": "code",
   "execution_count": 239,
   "metadata": {
    "collapsed": true
   },
   "outputs": [],
   "source": [
    "df1['Revolving CREDIT Balance'] = NaNgenerateRandom(df1['Revolving CREDIT Balance'])"
   ]
  },
  {
   "cell_type": "code",
   "execution_count": 240,
   "metadata": {
    "collapsed": true
   },
   "outputs": [],
   "source": [
    "#df1['Inquiries in the Last 6 Months'].value_counts()\n",
    "df1['Inquiries in the Last 6 Months'] = NaNgenerateRandom(df1['Inquiries in the Last 6 Months'])\n",
    "#df1['Inquiries in the Last 6 Months'].value_counts()"
   ]
  },
  {
   "cell_type": "code",
   "execution_count": 241,
   "metadata": {
    "collapsed": true
   },
   "outputs": [],
   "source": [
    "df1['Total CREDIT Lines'] = NaNgenerateRandom(df1['Total CREDIT Lines'])\n",
    "#df1['Total CREDIT Lines'].value_counts()"
   ]
  },
  {
   "cell_type": "code",
   "execution_count": 242,
   "metadata": {
    "collapsed": true
   },
   "outputs": [],
   "source": [
    "df1['Open CREDIT Lines'] = NaNgenerateRandom(df1['Open CREDIT Lines'])\n"
   ]
  },
  {
   "cell_type": "code",
   "execution_count": 243,
   "metadata": {
    "collapsed": true
   },
   "outputs": [],
   "source": [
    "\n",
    "df1.loc[(df1['Monthly Income']< 0,'Monthly Income')] = 0"
   ]
  },
  {
   "cell_type": "code",
   "execution_count": 244,
   "metadata": {
    "collapsed": true
   },
   "outputs": [],
   "source": [
    "df1['Debt-To-Income Ratio'] = NaNgenerateRandomPercent(df1['Debt-To-Income Ratio'])\n",
    "df1['Interest Rate'] = NaNgenerateRandomPercent(df1['Interest Rate'])"
   ]
  },
  {
   "cell_type": "code",
   "execution_count": 245,
   "metadata": {
    "collapsed": true
   },
   "outputs": [],
   "source": [
    "\n",
    "\n",
    "df1.loc[(df1['Total Amount Funded']< 0, 'Total Amount Funded')] = 0"
   ]
  },
  {
   "cell_type": "code",
   "execution_count": 246,
   "metadata": {
    "collapsed": true
   },
   "outputs": [],
   "source": [
    "\n",
    "\n",
    "df1.loc[(df1['Monthly PAYMENT']< 0, 'Monthly PAYMENT')] = 0"
   ]
  },
  {
   "cell_type": "code",
   "execution_count": 247,
   "metadata": {},
   "outputs": [
    {
     "data": {
      "text/plain": [
       "36 months    6845\n",
       "60 months    1394\n",
       "Name: Loan Length, dtype: int64"
      ]
     },
     "execution_count": 247,
     "metadata": {},
     "output_type": "execute_result"
    }
   ],
   "source": [
    "df1['Loan Length'].value_counts()"
   ]
  },
  {
   "cell_type": "code",
   "execution_count": 248,
   "metadata": {},
   "outputs": [
    {
     "data": {
      "text/plain": [
       "array(['36 ', '60 '], dtype=object)"
      ]
     },
     "execution_count": 248,
     "metadata": {},
     "output_type": "execute_result"
    }
   ],
   "source": [
    "odds = ['36 months'] * 16725 + ['60 months'] * 3275\n",
    "df1['Loan Length'] = df1['Loan Length'].replace(np.nan,np.random.choice(odds),regex=True)\n",
    "df1['Loan Length'] = df1['Loan Length'].replace('months','',regex=True)\n",
    "df1['Loan Length'].unique()"
   ]
  },
  {
   "cell_type": "code",
   "execution_count": 249,
   "metadata": {
    "collapsed": true
   },
   "outputs": [],
   "source": [
    "df1.loc[(df1['Amount Requested']< 0, 'Amount Requested')] = 0\n",
    "        \n",
    "df1.loc[(df1['Amount Funded By Investors']< 0, 'Amount Funded By Investors')] = 0"
   ]
  },
  {
   "cell_type": "code",
   "execution_count": 250,
   "metadata": {},
   "outputs": [
    {
     "data": {
      "text/html": [
       "<div>\n",
       "<style>\n",
       "    .dataframe thead tr:only-child th {\n",
       "        text-align: right;\n",
       "    }\n",
       "\n",
       "    .dataframe thead th {\n",
       "        text-align: left;\n",
       "    }\n",
       "\n",
       "    .dataframe tbody tr th {\n",
       "        vertical-align: top;\n",
       "    }\n",
       "</style>\n",
       "<table border=\"1\" class=\"dataframe\">\n",
       "  <thead>\n",
       "    <tr style=\"text-align: right;\">\n",
       "      <th></th>\n",
       "      <th>Loan ID</th>\n",
       "      <th>Amount Requested</th>\n",
       "      <th>Amount Funded By Investors</th>\n",
       "      <th>Interest Rate</th>\n",
       "      <th>Loan Length</th>\n",
       "      <th>CREDIT Grade</th>\n",
       "      <th>Loan Purpose</th>\n",
       "      <th>Monthly PAYMENT</th>\n",
       "      <th>Total Amount Funded</th>\n",
       "      <th>Debt-To-Income Ratio</th>\n",
       "      <th>...</th>\n",
       "      <th>Inquiries in the Last 6 Months</th>\n",
       "      <th>Accounts Now Delinquent</th>\n",
       "      <th>Delinquent Amount</th>\n",
       "      <th>Delinquencies (Last 2 yrs)</th>\n",
       "      <th>Months Since Last Delinquency</th>\n",
       "      <th>Public Records On File</th>\n",
       "      <th>Months Since Last Record</th>\n",
       "      <th>Education</th>\n",
       "      <th>Employment Length</th>\n",
       "      <th>Status (Fully Paid=1, Not Paid=0)</th>\n",
       "    </tr>\n",
       "  </thead>\n",
       "  <tbody>\n",
       "    <tr>\n",
       "      <th>0</th>\n",
       "      <td>1856772</td>\n",
       "      <td>10000</td>\n",
       "      <td>10000.00</td>\n",
       "      <td>0.1016</td>\n",
       "      <td>36</td>\n",
       "      <td>B1</td>\n",
       "      <td>home_improvement</td>\n",
       "      <td>323.43</td>\n",
       "      <td>10000</td>\n",
       "      <td>0.1745</td>\n",
       "      <td>...</td>\n",
       "      <td>1.0</td>\n",
       "      <td>0.0</td>\n",
       "      <td>0</td>\n",
       "      <td>0.0</td>\n",
       "      <td>4.0</td>\n",
       "      <td>1.0</td>\n",
       "      <td>86.0</td>\n",
       "      <td>Not Applicable</td>\n",
       "      <td>4 years</td>\n",
       "      <td>?</td>\n",
       "    </tr>\n",
       "    <tr>\n",
       "      <th>1</th>\n",
       "      <td>544915</td>\n",
       "      <td>4800</td>\n",
       "      <td>4800.00</td>\n",
       "      <td>0.1361</td>\n",
       "      <td>36</td>\n",
       "      <td>C2</td>\n",
       "      <td>debt_consolidation</td>\n",
       "      <td>163.15</td>\n",
       "      <td>4800</td>\n",
       "      <td>0.1579</td>\n",
       "      <td>...</td>\n",
       "      <td>0.0</td>\n",
       "      <td>0.0</td>\n",
       "      <td>0</td>\n",
       "      <td>0.0</td>\n",
       "      <td>39.0</td>\n",
       "      <td>0.0</td>\n",
       "      <td>19.0</td>\n",
       "      <td>Not Applicable</td>\n",
       "      <td>&lt; 1 year</td>\n",
       "      <td>?</td>\n",
       "    </tr>\n",
       "    <tr>\n",
       "      <th>2</th>\n",
       "      <td>2079551</td>\n",
       "      <td>10000</td>\n",
       "      <td>10000.00</td>\n",
       "      <td>0.1212</td>\n",
       "      <td>36</td>\n",
       "      <td>B3</td>\n",
       "      <td>debt_consolidation</td>\n",
       "      <td>332.72</td>\n",
       "      <td>10000</td>\n",
       "      <td>0.1484</td>\n",
       "      <td>...</td>\n",
       "      <td>2.0</td>\n",
       "      <td>0.0</td>\n",
       "      <td>0</td>\n",
       "      <td>1.0</td>\n",
       "      <td>8.0</td>\n",
       "      <td>0.0</td>\n",
       "      <td>23.0</td>\n",
       "      <td>Not Applicable</td>\n",
       "      <td>&lt; 1 year</td>\n",
       "      <td>?</td>\n",
       "    </tr>\n",
       "    <tr>\n",
       "      <th>3</th>\n",
       "      <td>2514828</td>\n",
       "      <td>5350</td>\n",
       "      <td>5350.00</td>\n",
       "      <td>0.1580</td>\n",
       "      <td>36</td>\n",
       "      <td>C3</td>\n",
       "      <td>debt_consolidation</td>\n",
       "      <td>0.00</td>\n",
       "      <td>5350</td>\n",
       "      <td>0.2136</td>\n",
       "      <td>...</td>\n",
       "      <td>1.0</td>\n",
       "      <td>0.0</td>\n",
       "      <td>0</td>\n",
       "      <td>1.0</td>\n",
       "      <td>12.0</td>\n",
       "      <td>0.0</td>\n",
       "      <td>46.0</td>\n",
       "      <td>Not Applicable</td>\n",
       "      <td>1 year</td>\n",
       "      <td>?</td>\n",
       "    </tr>\n",
       "    <tr>\n",
       "      <th>4</th>\n",
       "      <td>396145</td>\n",
       "      <td>13000</td>\n",
       "      <td>2997.38</td>\n",
       "      <td>0.1474</td>\n",
       "      <td>36</td>\n",
       "      <td>D3</td>\n",
       "      <td>debt_consolidation</td>\n",
       "      <td>448.98</td>\n",
       "      <td>13000</td>\n",
       "      <td>0.1639</td>\n",
       "      <td>...</td>\n",
       "      <td>3.0</td>\n",
       "      <td>0.0</td>\n",
       "      <td>0</td>\n",
       "      <td>0.0</td>\n",
       "      <td>22.0</td>\n",
       "      <td>0.0</td>\n",
       "      <td>14.0</td>\n",
       "      <td>University</td>\n",
       "      <td>3 years</td>\n",
       "      <td>?</td>\n",
       "    </tr>\n",
       "  </tbody>\n",
       "</table>\n",
       "<p>5 rows × 28 columns</p>\n",
       "</div>"
      ],
      "text/plain": [
       "   Loan ID  Amount Requested  Amount Funded By Investors  Interest Rate  \\\n",
       "0  1856772             10000                    10000.00         0.1016   \n",
       "1   544915              4800                     4800.00         0.1361   \n",
       "2  2079551             10000                    10000.00         0.1212   \n",
       "3  2514828              5350                     5350.00         0.1580   \n",
       "4   396145             13000                     2997.38         0.1474   \n",
       "\n",
       "  Loan Length CREDIT Grade        Loan Purpose  Monthly PAYMENT  \\\n",
       "0         36            B1    home_improvement           323.43   \n",
       "1         36            C2  debt_consolidation           163.15   \n",
       "2         36            B3  debt_consolidation           332.72   \n",
       "3         36            C3  debt_consolidation             0.00   \n",
       "4         36            D3  debt_consolidation           448.98   \n",
       "\n",
       "   Total Amount Funded  Debt-To-Income Ratio  \\\n",
       "0                10000                0.1745   \n",
       "1                 4800                0.1579   \n",
       "2                10000                0.1484   \n",
       "3                 5350                0.2136   \n",
       "4                13000                0.1639   \n",
       "\n",
       "                 ...                 Inquiries in the Last 6 Months  \\\n",
       "0                ...                                            1.0   \n",
       "1                ...                                            0.0   \n",
       "2                ...                                            2.0   \n",
       "3                ...                                            1.0   \n",
       "4                ...                                            3.0   \n",
       "\n",
       "  Accounts Now Delinquent  Delinquent Amount Delinquencies (Last 2 yrs)  \\\n",
       "0                     0.0                  0                        0.0   \n",
       "1                     0.0                  0                        0.0   \n",
       "2                     0.0                  0                        1.0   \n",
       "3                     0.0                  0                        1.0   \n",
       "4                     0.0                  0                        0.0   \n",
       "\n",
       "   Months Since Last Delinquency  Public Records On File  \\\n",
       "0                            4.0                     1.0   \n",
       "1                           39.0                     0.0   \n",
       "2                            8.0                     0.0   \n",
       "3                           12.0                     0.0   \n",
       "4                           22.0                     0.0   \n",
       "\n",
       "   Months Since Last Record       Education  Employment Length  \\\n",
       "0                      86.0  Not Applicable            4 years   \n",
       "1                      19.0  Not Applicable           < 1 year   \n",
       "2                      23.0  Not Applicable           < 1 year   \n",
       "3                      46.0  Not Applicable             1 year   \n",
       "4                      14.0      University            3 years   \n",
       "\n",
       "   Status (Fully Paid=1, Not Paid=0)  \n",
       "0                                  ?  \n",
       "1                                  ?  \n",
       "2                                  ?  \n",
       "3                                  ?  \n",
       "4                                  ?  \n",
       "\n",
       "[5 rows x 28 columns]"
      ]
     },
     "execution_count": 250,
     "metadata": {},
     "output_type": "execute_result"
    }
   ],
   "source": [
    "df1.head()"
   ]
  },
  {
   "cell_type": "code",
   "execution_count": 251,
   "metadata": {
    "collapsed": true
   },
   "outputs": [],
   "source": [
    "df1.to_csv('cleanToPredict.csv', encoding='utf-8',index= False)"
   ]
  },
  {
   "cell_type": "code",
   "execution_count": 252,
   "metadata": {},
   "outputs": [
    {
     "data": {
      "text/html": [
       "<div>\n",
       "<style>\n",
       "    .dataframe thead tr:only-child th {\n",
       "        text-align: right;\n",
       "    }\n",
       "\n",
       "    .dataframe thead th {\n",
       "        text-align: left;\n",
       "    }\n",
       "\n",
       "    .dataframe tbody tr th {\n",
       "        vertical-align: top;\n",
       "    }\n",
       "</style>\n",
       "<table border=\"1\" class=\"dataframe\">\n",
       "  <thead>\n",
       "    <tr style=\"text-align: right;\">\n",
       "      <th></th>\n",
       "      <th>Loan ID</th>\n",
       "      <th>Amount Requested</th>\n",
       "      <th>Amount Funded By Investors</th>\n",
       "      <th>Interest Rate</th>\n",
       "      <th>Loan Length</th>\n",
       "      <th>CREDIT Grade</th>\n",
       "      <th>Loan Purpose</th>\n",
       "      <th>Monthly PAYMENT</th>\n",
       "      <th>Total Amount Funded</th>\n",
       "      <th>Debt-To-Income Ratio</th>\n",
       "      <th>...</th>\n",
       "      <th>Inquiries in the Last 6 Months</th>\n",
       "      <th>Accounts Now Delinquent</th>\n",
       "      <th>Delinquent Amount</th>\n",
       "      <th>Delinquencies (Last 2 yrs)</th>\n",
       "      <th>Months Since Last Delinquency</th>\n",
       "      <th>Public Records On File</th>\n",
       "      <th>Months Since Last Record</th>\n",
       "      <th>Education</th>\n",
       "      <th>Employment Length</th>\n",
       "      <th>Status (Fully Paid=1, Not Paid=0)</th>\n",
       "    </tr>\n",
       "  </thead>\n",
       "  <tbody>\n",
       "    <tr>\n",
       "      <th>0</th>\n",
       "      <td>1856772</td>\n",
       "      <td>10000</td>\n",
       "      <td>10000.00</td>\n",
       "      <td>0.1016</td>\n",
       "      <td>36</td>\n",
       "      <td>B1</td>\n",
       "      <td>home_improvement</td>\n",
       "      <td>323.43</td>\n",
       "      <td>10000</td>\n",
       "      <td>0.1745</td>\n",
       "      <td>...</td>\n",
       "      <td>1.0</td>\n",
       "      <td>0.0</td>\n",
       "      <td>0.0</td>\n",
       "      <td>0.0</td>\n",
       "      <td>4.0</td>\n",
       "      <td>1.0</td>\n",
       "      <td>86.0</td>\n",
       "      <td>Not Applicable</td>\n",
       "      <td>4 years</td>\n",
       "      <td>?</td>\n",
       "    </tr>\n",
       "    <tr>\n",
       "      <th>1</th>\n",
       "      <td>544915</td>\n",
       "      <td>4800</td>\n",
       "      <td>4800.00</td>\n",
       "      <td>0.1361</td>\n",
       "      <td>36</td>\n",
       "      <td>C2</td>\n",
       "      <td>debt_consolidation</td>\n",
       "      <td>163.15</td>\n",
       "      <td>4800</td>\n",
       "      <td>0.1579</td>\n",
       "      <td>...</td>\n",
       "      <td>0.0</td>\n",
       "      <td>0.0</td>\n",
       "      <td>0.0</td>\n",
       "      <td>0.0</td>\n",
       "      <td>39.0</td>\n",
       "      <td>0.0</td>\n",
       "      <td>19.0</td>\n",
       "      <td>Not Applicable</td>\n",
       "      <td>&lt; 1 year</td>\n",
       "      <td>?</td>\n",
       "    </tr>\n",
       "    <tr>\n",
       "      <th>2</th>\n",
       "      <td>2079551</td>\n",
       "      <td>10000</td>\n",
       "      <td>10000.00</td>\n",
       "      <td>0.1212</td>\n",
       "      <td>36</td>\n",
       "      <td>B3</td>\n",
       "      <td>debt_consolidation</td>\n",
       "      <td>332.72</td>\n",
       "      <td>10000</td>\n",
       "      <td>0.1484</td>\n",
       "      <td>...</td>\n",
       "      <td>2.0</td>\n",
       "      <td>0.0</td>\n",
       "      <td>0.0</td>\n",
       "      <td>1.0</td>\n",
       "      <td>8.0</td>\n",
       "      <td>0.0</td>\n",
       "      <td>23.0</td>\n",
       "      <td>Not Applicable</td>\n",
       "      <td>&lt; 1 year</td>\n",
       "      <td>?</td>\n",
       "    </tr>\n",
       "    <tr>\n",
       "      <th>3</th>\n",
       "      <td>2514828</td>\n",
       "      <td>5350</td>\n",
       "      <td>5350.00</td>\n",
       "      <td>0.1580</td>\n",
       "      <td>36</td>\n",
       "      <td>C3</td>\n",
       "      <td>debt_consolidation</td>\n",
       "      <td>0.00</td>\n",
       "      <td>5350</td>\n",
       "      <td>0.2136</td>\n",
       "      <td>...</td>\n",
       "      <td>1.0</td>\n",
       "      <td>0.0</td>\n",
       "      <td>0.0</td>\n",
       "      <td>1.0</td>\n",
       "      <td>12.0</td>\n",
       "      <td>0.0</td>\n",
       "      <td>46.0</td>\n",
       "      <td>Not Applicable</td>\n",
       "      <td>1 year</td>\n",
       "      <td>?</td>\n",
       "    </tr>\n",
       "    <tr>\n",
       "      <th>4</th>\n",
       "      <td>396145</td>\n",
       "      <td>13000</td>\n",
       "      <td>2997.38</td>\n",
       "      <td>0.1474</td>\n",
       "      <td>36</td>\n",
       "      <td>D3</td>\n",
       "      <td>debt_consolidation</td>\n",
       "      <td>448.98</td>\n",
       "      <td>13000</td>\n",
       "      <td>0.1639</td>\n",
       "      <td>...</td>\n",
       "      <td>3.0</td>\n",
       "      <td>0.0</td>\n",
       "      <td>0.0</td>\n",
       "      <td>0.0</td>\n",
       "      <td>22.0</td>\n",
       "      <td>0.0</td>\n",
       "      <td>14.0</td>\n",
       "      <td>University</td>\n",
       "      <td>3 years</td>\n",
       "      <td>?</td>\n",
       "    </tr>\n",
       "  </tbody>\n",
       "</table>\n",
       "<p>5 rows × 28 columns</p>\n",
       "</div>"
      ],
      "text/plain": [
       "   Loan ID  Amount Requested  Amount Funded By Investors  Interest Rate  \\\n",
       "0  1856772             10000                    10000.00         0.1016   \n",
       "1   544915              4800                     4800.00         0.1361   \n",
       "2  2079551             10000                    10000.00         0.1212   \n",
       "3  2514828              5350                     5350.00         0.1580   \n",
       "4   396145             13000                     2997.38         0.1474   \n",
       "\n",
       "   Loan Length CREDIT Grade        Loan Purpose  Monthly PAYMENT  \\\n",
       "0           36           B1    home_improvement           323.43   \n",
       "1           36           C2  debt_consolidation           163.15   \n",
       "2           36           B3  debt_consolidation           332.72   \n",
       "3           36           C3  debt_consolidation             0.00   \n",
       "4           36           D3  debt_consolidation           448.98   \n",
       "\n",
       "   Total Amount Funded  Debt-To-Income Ratio  \\\n",
       "0                10000                0.1745   \n",
       "1                 4800                0.1579   \n",
       "2                10000                0.1484   \n",
       "3                 5350                0.2136   \n",
       "4                13000                0.1639   \n",
       "\n",
       "                 ...                 Inquiries in the Last 6 Months  \\\n",
       "0                ...                                            1.0   \n",
       "1                ...                                            0.0   \n",
       "2                ...                                            2.0   \n",
       "3                ...                                            1.0   \n",
       "4                ...                                            3.0   \n",
       "\n",
       "  Accounts Now Delinquent  Delinquent Amount Delinquencies (Last 2 yrs)  \\\n",
       "0                     0.0                0.0                        0.0   \n",
       "1                     0.0                0.0                        0.0   \n",
       "2                     0.0                0.0                        1.0   \n",
       "3                     0.0                0.0                        1.0   \n",
       "4                     0.0                0.0                        0.0   \n",
       "\n",
       "   Months Since Last Delinquency  Public Records On File  \\\n",
       "0                            4.0                     1.0   \n",
       "1                           39.0                     0.0   \n",
       "2                            8.0                     0.0   \n",
       "3                           12.0                     0.0   \n",
       "4                           22.0                     0.0   \n",
       "\n",
       "   Months Since Last Record       Education  Employment Length  \\\n",
       "0                      86.0  Not Applicable            4 years   \n",
       "1                      19.0  Not Applicable           < 1 year   \n",
       "2                      23.0  Not Applicable           < 1 year   \n",
       "3                      46.0  Not Applicable             1 year   \n",
       "4                      14.0      University            3 years   \n",
       "\n",
       "   Status (Fully Paid=1, Not Paid=0)  \n",
       "0                                  ?  \n",
       "1                                  ?  \n",
       "2                                  ?  \n",
       "3                                  ?  \n",
       "4                                  ?  \n",
       "\n",
       "[5 rows x 28 columns]"
      ]
     },
     "execution_count": 252,
     "metadata": {},
     "output_type": "execute_result"
    }
   ],
   "source": [
    "df3= pd.read_csv('cleanToPredict.csv')\n",
    "df3.head()"
   ]
  },
  {
   "cell_type": "code",
   "execution_count": null,
   "metadata": {
    "collapsed": true
   },
   "outputs": [],
   "source": []
  },
  {
   "cell_type": "code",
   "execution_count": null,
   "metadata": {
    "collapsed": true
   },
   "outputs": [],
   "source": []
  },
  {
   "cell_type": "code",
   "execution_count": null,
   "metadata": {
    "collapsed": true
   },
   "outputs": [],
   "source": []
  },
  {
   "cell_type": "code",
   "execution_count": 721,
   "metadata": {
    "collapsed": true
   },
   "outputs": [],
   "source": []
  }
 ],
 "metadata": {
  "kernelspec": {
   "display_name": "Python 3",
   "language": "python",
   "name": "python3"
  },
  "language_info": {
   "codemirror_mode": {
    "name": "ipython",
    "version": 3
   },
   "file_extension": ".py",
   "mimetype": "text/x-python",
   "name": "python",
   "nbconvert_exporter": "python",
   "pygments_lexer": "ipython3",
   "version": "3.6.1"
  }
 },
 "nbformat": 4,
 "nbformat_minor": 2
}
