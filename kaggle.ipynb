{
 "cells": [
  {
   "cell_type": "code",
   "execution_count": 2,
   "metadata": {},
   "outputs": [
    {
     "name": "stderr",
     "output_type": "stream",
     "text": [
      "C:\\Users\\yangt\\Anaconda3\\Ana\\lib\\site-packages\\sklearn\\ensemble\\weight_boosting.py:29: DeprecationWarning: numpy.core.umath_tests is an internal NumPy module and should not be imported. It will be removed in a future NumPy release.\n",
      "  from numpy.core.umath_tests import inner1d\n"
     ]
    }
   ],
   "source": [
    "import numpy as np\n",
    "import pandas as pd\n",
    "from sklearn.model_selection import train_test_split\n",
    "from sklearn.tree import DecisionTreeClassifier\n",
    "from sklearn.ensemble import RandomForestClassifier\n",
    "from sklearn.ensemble import ExtraTreesClassifier\n",
    "from sklearn.metrics import accuracy_score\n",
    "from sklearn import tree\n",
    "from sklearn import preprocessing"
   ]
  },
  {
   "cell_type": "code",
   "execution_count": null,
   "metadata": {
    "collapsed": true
   },
   "outputs": [],
   "source": [
    "seed = 7\n",
    "np.random.seed(seed)"
   ]
  },
  {
   "cell_type": "code",
   "execution_count": 3,
   "metadata": {
    "collapsed": true
   },
   "outputs": [],
   "source": [
    "train_data = pd.read_csv('cleanTrain.csv')\n",
    "test_data = pd.read_csv('cleanToPredict.csv')\n",
    "\n",
    "X_1 = train_data.select_dtypes(include=[object])\n",
    "X_1.head()\n",
    "\n",
    "\n",
    "\n",
    "# 1. INSTANTIATE\n",
    "# encode labels with value between 0 and n_classes-1.\n",
    "le = preprocessing.LabelEncoder()\n",
    "\n",
    "\n",
    "# 2/3. FIT AND TRANSFORM\n",
    "# use df.apply() to apply le.fit_transform to all columns\n",
    "X_2 = X_1.apply(le.fit_transform)\n",
    "X_2.head()\n",
    "\n",
    "\n",
    "train_data['CREDIT Grade'] = X_2['CREDIT Grade']\n",
    "train_data['Loan Purpose'] = X_2['Loan Purpose']\n",
    "train_data['State'] = X_2['State']\n",
    "train_data['Home Ownership'] = X_2['Home Ownership']\n",
    "train_data['FICO Range'] = X_2['FICO Range']\n",
    "train_data['Employment Length'] = X_2['Employment Length']\n",
    "train_data['Education'] = X_2['Education']\n",
    "\n",
    "Y_1 = test_data.select_dtypes(include=[object])\n",
    "Y_1.head()\n",
    "\n",
    "\n",
    "\n",
    "# 1. INSTANTIATE\n",
    "# encode labels with value between 0 and n_classes-1.\n",
    "le = preprocessing.LabelEncoder()\n",
    "\n",
    "\n",
    "# 2/3. FIT AND TRANSFORM\n",
    "# use df.apply() to apply le.fit_transform to all columns\n",
    "Y_2 = Y_1.apply(le.fit_transform)\n",
    "Y_2.head()\n",
    "\n",
    "store = test_data['Loan ID'].values\n",
    "del test_data['Loan ID']\n",
    "test_data['CREDIT Grade'] = Y_2['CREDIT Grade']\n",
    "test_data['Loan Purpose'] = Y_2['Loan Purpose']\n",
    "test_data['State'] = Y_2['State']\n",
    "test_data['Home Ownership'] = Y_2['Home Ownership']\n",
    "test_data['FICO Range'] = Y_2['FICO Range']\n",
    "test_data['Employment Length'] = Y_2['Employment Length']\n",
    "test_data['Education'] = Y_2['Education']"
   ]
  },
  {
   "cell_type": "code",
   "execution_count": null,
   "metadata": {
    "collapsed": true
   },
   "outputs": [],
   "source": []
  },
  {
   "cell_type": "code",
   "execution_count": 15,
   "metadata": {},
   "outputs": [
    {
     "name": "stdout",
     "output_type": "stream",
     "text": [
      "(13984, 26)\n",
      "(13984,)\n",
      "Epoch 1/5\n",
      "13984/13984 [==============================] - 1s 57us/step - loss: 7.9338\n",
      "Epoch 2/5\n",
      "13984/13984 [==============================] - 1s 41us/step - loss: 7.9357\n",
      "Epoch 3/5\n",
      "13984/13984 [==============================] - 0s 31us/step - loss: 7.9357\n",
      "Epoch 4/5\n",
      "13984/13984 [==============================] - 0s 31us/step - loss: 7.9357\n",
      "Epoch 5/5\n",
      "13984/13984 [==============================] - 0s 32us/step - loss: 7.9357\n",
      "Accuracy is 50.70070070070069\n"
     ]
    }
   ],
   "source": [
    "\n",
    "X = train_data.values[:,0:-1]\n",
    "\n",
    "Y = train_data.values[:,-1]\n",
    "\n",
    "#Testing!!\n",
    "X_train, X_test, y_train, y_test = train_test_split( X, Y, test_size = 0.3, random_state = 100)\n",
    "print(X_train.shape)\n",
    "print(y_train.shape)\n",
    "\n",
    "import tensorflow as tf\n",
    "\n",
    "model = tf.keras.Sequential()\n",
    "lossType = tf.keras.losses.binary_crossentropy\n",
    "opt = tf.train.AdamOptimizer()\n",
    "\n",
    "i_shape = (26,)\n",
    "model.add(tf.keras.layers.Dense(60, input_shape = i_shape, kernel_initializer = 'normal', activation = tf.nn.relu))\n",
    "model.add(tf.keras.layers.Dense(1,activation = tf.nn.sigmoid))\n",
    "model.compile(optimizer = opt, loss = lossType)\n",
    "model.fit(X_train,y_train,batch_size = 32, epochs = 5)\n",
    "    \n",
    "\n",
    "preds = model.predict(X_test)\n",
    "\n",
    "print(\"Accuracy is\", accuracy_score(y_test,preds)*100)"
   ]
  },
  {
   "cell_type": "code",
   "execution_count": 4,
   "metadata": {
    "collapsed": true
   },
   "outputs": [],
   "source": [
    "#gini\n",
    "clf_gini = DecisionTreeClassifier(criterion = \"gini\", random_state = 100,max_depth=1200,min_samples_leaf=44)\n",
    "clf_gini.fit(X_train, y_train)\n",
    "\n",
    "y_pred = clf_gini.predict(X_test)"
   ]
  },
  {
   "cell_type": "code",
   "execution_count": 5,
   "metadata": {},
   "outputs": [
    {
     "name": "stdout",
     "output_type": "stream",
     "text": [
      "Accuracy is  80.7307307307\n"
     ]
    }
   ],
   "source": [
    "#accuracy score\n",
    "print (\"Accuracy is \", accuracy_score(y_test,y_pred)*100)"
   ]
  },
  {
   "cell_type": "code",
   "execution_count": 6,
   "metadata": {},
   "outputs": [
    {
     "name": "stdout",
     "output_type": "stream",
     "text": [
      "Accuracy is 80.6973640307\n"
     ]
    }
   ],
   "source": [
    "#accuracy score entropy\n",
    "\n",
    "clf_entropy = DecisionTreeClassifier(criterion = \"entropy\", random_state = 100,\n",
    " max_depth=1200, min_samples_leaf=44)\n",
    "clf_entropy.fit(X_train, y_train)\n",
    "\n",
    "y_pred_entro = clf_entropy.predict(X_test)\n",
    "\n",
    "print(\"Accuracy is\", accuracy_score(y_test,y_pred_entro)*100)"
   ]
  },
  {
   "cell_type": "code",
   "execution_count": null,
   "metadata": {
    "collapsed": true
   },
   "outputs": [],
   "source": []
  },
  {
   "cell_type": "code",
   "execution_count": null,
   "metadata": {
    "collapsed": true
   },
   "outputs": [],
   "source": []
  },
  {
   "cell_type": "code",
   "execution_count": 7,
   "metadata": {},
   "outputs": [
    {
     "data": {
      "text/plain": [
       "AdaBoostClassifier(algorithm='SAMME.R',\n",
       "          base_estimator=DecisionTreeClassifier(class_weight=None, criterion='entropy', max_depth=1200,\n",
       "            max_features=None, max_leaf_nodes=None,\n",
       "            min_impurity_split=1e-07, min_samples_leaf=44,\n",
       "            min_samples_split=2, min_weight_fraction_leaf=0.0,\n",
       "            presort=False, random_state=100, splitter='best'),\n",
       "          learning_rate=0.01, n_estimators=100, random_state=100)"
      ]
     },
     "execution_count": 7,
     "metadata": {},
     "output_type": "execute_result"
    }
   ],
   "source": [
    "from sklearn.ensemble import AdaBoostClassifier\n",
    "\n",
    "\n",
    "clf_ada = AdaBoostClassifier(base_estimator = clf_entropy,n_estimators = 100, learning_rate = 0.01,random_state = 100)\n",
    "clf_ada.fit(X_train,y_train)"
   ]
  },
  {
   "cell_type": "code",
   "execution_count": 8,
   "metadata": {},
   "outputs": [
    {
     "name": "stdout",
     "output_type": "stream",
     "text": [
      "Accuracy is 83.4834834835\n"
     ]
    }
   ],
   "source": [
    "y_pred_ada = clf_ada.predict(X_test)\n",
    "print(\"Accuracy is\", accuracy_score(y_test,y_pred_ada)*100)\n"
   ]
  },
  {
   "cell_type": "code",
   "execution_count": null,
   "metadata": {
    "collapsed": true
   },
   "outputs": [],
   "source": []
  },
  {
   "cell_type": "code",
   "execution_count": null,
   "metadata": {
    "collapsed": true
   },
   "outputs": [],
   "source": []
  },
  {
   "cell_type": "code",
   "execution_count": 9,
   "metadata": {},
   "outputs": [
    {
     "name": "stdout",
     "output_type": "stream",
     "text": [
      "[[10000.0 0.1016 36 ..., 86.0 2 4]\n",
      " [4800.0 0.1361 36 ..., 19.0 2 10]\n",
      " [10000.0 0.1212 36 ..., 23.0 2 10]\n",
      " ..., \n",
      " [8484.93 0.1411 36 ..., 46.0 3 3]\n",
      " [4595.73 0.1292 36 ..., 0.0 1 1]\n",
      " [25000.0 0.1114 36 ..., 9.0 2 6]]\n"
     ]
    },
    {
     "ename": "ValueError",
     "evalue": "Number of features of the model must match the input. Model n_features is 26 and input n_features is 25 ",
     "output_type": "error",
     "traceback": [
      "\u001b[1;31m---------------------------------------------------------------------------\u001b[0m",
      "\u001b[1;31mValueError\u001b[0m                                Traceback (most recent call last)",
      "\u001b[1;32m<ipython-input-9-85cf6f0112eb>\u001b[0m in \u001b[0;36m<module>\u001b[1;34m()\u001b[0m\n\u001b[0;32m      4\u001b[0m \u001b[0mok\u001b[0m \u001b[1;33m=\u001b[0m \u001b[0mtest_data\u001b[0m\u001b[1;33m.\u001b[0m\u001b[0mvalues\u001b[0m\u001b[1;33m[\u001b[0m\u001b[1;33m:\u001b[0m\u001b[1;33m,\u001b[0m\u001b[1;36m1\u001b[0m\u001b[1;33m:\u001b[0m\u001b[1;33m-\u001b[0m\u001b[1;36m1\u001b[0m\u001b[1;33m]\u001b[0m\u001b[1;33m\u001b[0m\u001b[0m\n\u001b[0;32m      5\u001b[0m \u001b[0mprint\u001b[0m\u001b[1;33m(\u001b[0m\u001b[0mok\u001b[0m\u001b[1;33m)\u001b[0m\u001b[1;33m\u001b[0m\u001b[0m\n\u001b[1;32m----> 6\u001b[1;33m \u001b[0my_pred_1\u001b[0m \u001b[1;33m=\u001b[0m \u001b[0mclf_gini\u001b[0m\u001b[1;33m.\u001b[0m\u001b[0mpredict\u001b[0m\u001b[1;33m(\u001b[0m\u001b[0mok\u001b[0m\u001b[1;33m)\u001b[0m\u001b[1;33m\u001b[0m\u001b[0m\n\u001b[0m\u001b[0;32m      7\u001b[0m \u001b[0my_pred_randomForest\u001b[0m \u001b[1;33m=\u001b[0m \u001b[0mclf_random\u001b[0m\u001b[1;33m.\u001b[0m\u001b[0mpredict\u001b[0m\u001b[1;33m(\u001b[0m\u001b[0mok\u001b[0m\u001b[1;33m)\u001b[0m\u001b[1;33m\u001b[0m\u001b[0m\n\u001b[0;32m      8\u001b[0m \u001b[0my_pred_ada_test\u001b[0m \u001b[1;33m=\u001b[0m \u001b[0mclf_ada\u001b[0m\u001b[1;33m.\u001b[0m\u001b[0mpredict\u001b[0m\u001b[1;33m(\u001b[0m\u001b[0mok\u001b[0m\u001b[1;33m)\u001b[0m\u001b[1;33m\u001b[0m\u001b[0m\n",
      "\u001b[1;32mC:\\Users\\yangt\\Anaconda3\\Ana\\lib\\site-packages\\sklearn\\tree\\tree.py\u001b[0m in \u001b[0;36mpredict\u001b[1;34m(self, X, check_input)\u001b[0m\n\u001b[0;32m    402\u001b[0m         \"\"\"\n\u001b[0;32m    403\u001b[0m \u001b[1;33m\u001b[0m\u001b[0m\n\u001b[1;32m--> 404\u001b[1;33m         \u001b[0mX\u001b[0m \u001b[1;33m=\u001b[0m \u001b[0mself\u001b[0m\u001b[1;33m.\u001b[0m\u001b[0m_validate_X_predict\u001b[0m\u001b[1;33m(\u001b[0m\u001b[0mX\u001b[0m\u001b[1;33m,\u001b[0m \u001b[0mcheck_input\u001b[0m\u001b[1;33m)\u001b[0m\u001b[1;33m\u001b[0m\u001b[0m\n\u001b[0m\u001b[0;32m    405\u001b[0m         \u001b[0mproba\u001b[0m \u001b[1;33m=\u001b[0m \u001b[0mself\u001b[0m\u001b[1;33m.\u001b[0m\u001b[0mtree_\u001b[0m\u001b[1;33m.\u001b[0m\u001b[0mpredict\u001b[0m\u001b[1;33m(\u001b[0m\u001b[0mX\u001b[0m\u001b[1;33m)\u001b[0m\u001b[1;33m\u001b[0m\u001b[0m\n\u001b[0;32m    406\u001b[0m         \u001b[0mn_samples\u001b[0m \u001b[1;33m=\u001b[0m \u001b[0mX\u001b[0m\u001b[1;33m.\u001b[0m\u001b[0mshape\u001b[0m\u001b[1;33m[\u001b[0m\u001b[1;36m0\u001b[0m\u001b[1;33m]\u001b[0m\u001b[1;33m\u001b[0m\u001b[0m\n",
      "\u001b[1;32mC:\\Users\\yangt\\Anaconda3\\Ana\\lib\\site-packages\\sklearn\\tree\\tree.py\u001b[0m in \u001b[0;36m_validate_X_predict\u001b[1;34m(self, X, check_input)\u001b[0m\n\u001b[0;32m    374\u001b[0m                              \u001b[1;34m\"match the input. Model n_features is %s and \"\u001b[0m\u001b[1;33m\u001b[0m\u001b[0m\n\u001b[0;32m    375\u001b[0m                              \u001b[1;34m\"input n_features is %s \"\u001b[0m\u001b[1;33m\u001b[0m\u001b[0m\n\u001b[1;32m--> 376\u001b[1;33m                              % (self.n_features_, n_features))\n\u001b[0m\u001b[0;32m    377\u001b[0m \u001b[1;33m\u001b[0m\u001b[0m\n\u001b[0;32m    378\u001b[0m         \u001b[1;32mreturn\u001b[0m \u001b[0mX\u001b[0m\u001b[1;33m\u001b[0m\u001b[0m\n",
      "\u001b[1;31mValueError\u001b[0m: Number of features of the model must match the input. Model n_features is 26 and input n_features is 25 "
     ]
    }
   ],
   "source": [
    "#test_data.isnull().sum()\n",
    "#test_data.head()\n",
    "\n",
    "ok = test_data.values[:,1:-1]\n",
    "print(ok)\n",
    "y_pred_1 = clf_gini.predict(ok)\n",
    "y_pred_randomForest = clf_random.predict(ok)\n",
    "y_pred_ada_test = clf_ada.predict(ok)\n",
    "#print(y_pred_1)\n"
   ]
  },
  {
   "cell_type": "code",
   "execution_count": null,
   "metadata": {
    "collapsed": true
   },
   "outputs": [],
   "source": [
    "#df_pred = pd.DataFrame(store,y_pred_1)\n",
    "df_pred = pd.DataFrame({'$a':df1['Loan ID', '$b': y_pred_ada_test})\n",
    "#df_pred = pd.Panel({'Loan ID': store, 'Status (Fully Paid=1, Not Paid=0)': y_pred_1})\n"
   ]
  },
  {
   "cell_type": "code",
   "execution_count": null,
   "metadata": {
    "collapsed": true
   },
   "outputs": [],
   "source": [
    "df_pred.columns=['Loan ID','Status (Fully Paid=1, Not Paid=0)']\n",
    "df_pred.head()"
   ]
  },
  {
   "cell_type": "code",
   "execution_count": null,
   "metadata": {
    "collapsed": true
   },
   "outputs": [],
   "source": [
    "df_pred.to_csv('hi.csv', encoding='utf-8',index= False)"
   ]
  },
  {
   "cell_type": "code",
   "execution_count": null,
   "metadata": {
    "collapsed": true
   },
   "outputs": [],
   "source": []
  },
  {
   "cell_type": "code",
   "execution_count": null,
   "metadata": {
    "collapsed": true
   },
   "outputs": [],
   "source": []
  },
  {
   "cell_type": "code",
   "execution_count": null,
   "metadata": {
    "collapsed": true
   },
   "outputs": [],
   "source": []
  }
 ],
 "metadata": {
  "kernelspec": {
   "display_name": "Python 3",
   "language": "python",
   "name": "python3"
  },
  "language_info": {
   "codemirror_mode": {
    "name": "ipython",
    "version": 3
   },
   "file_extension": ".py",
   "mimetype": "text/x-python",
   "name": "python",
   "nbconvert_exporter": "python",
   "pygments_lexer": "ipython3",
   "version": "3.6.1"
  }
 },
 "nbformat": 4,
 "nbformat_minor": 2
}
